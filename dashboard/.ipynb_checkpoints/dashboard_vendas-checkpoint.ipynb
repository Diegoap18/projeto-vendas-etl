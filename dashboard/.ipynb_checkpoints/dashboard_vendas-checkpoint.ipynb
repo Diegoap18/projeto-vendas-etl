{
 "cells": [
  {
   "cell_type": "code",
   "execution_count": null,
   "id": "e8f73045",
   "metadata": {
    "vscode": {
     "languageId": "plaintext"
    }
   },
   "outputs": [],
   "source": [
    "# Imports\n",
    "import pandas as pd\n",
    "import sqlite3\n",
    "import matplotlib.pyplot as plt\n",
    "import seaborn as sns\n",
    "\n",
    "# Conectar ao banco\n",
    "conn = sqlite3.connect('../database/vendas.db')\n",
    "\n",
    "# Ler dados\n",
    "df = pd.read_sql_query(\"SELECT * FROM vendas\", conn)\n",
    "\n",
    "# Converter coluna de data\n",
    "df['data'] = pd.to_datetime(df['data'])\n",
    "\n",
    "# Vendas totais por produto\n",
    "vendas_por_produto = df.groupby('produto')['preco'].sum().sort_values(ascending=False)\n",
    "\n",
    "# Vendas por categoria\n",
    "vendas_categoria = df.groupby('categoria')['preco'].sum()\n",
    "\n",
    "# Vendas por dia\n",
    "vendas_por_dia = df.groupby('data')['preco'].sum()\n",
    "\n",
    "# Plot 1: Produtos mais vendidos\n",
    "plt.figure(figsize=(8,4))\n",
    "vendas_por_produto.plot(kind='bar', title='Vendas por Produto')\n",
    "plt.ylabel('Total em R$')\n",
    "plt.tight_layout()\n",
    "plt.show()\n",
    "\n",
    "# Plot 2: Vendas por categoria\n",
    "plt.figure(figsize=(6,4))\n",
    "vendas_categoria.plot(kind='pie', autopct='%1.1f%%', title='Distribuição por Categoria')\n",
    "plt.ylabel('')\n",
    "plt.tight_layout()\n",
    "plt.show()\n",
    "\n",
    "# Plot 3: Vendas por dia\n",
    "plt.figure(figsize=(8,4))\n",
    "vendas_por_dia.plot(marker='o', title='Vendas por Dia')\n",
    "plt.ylabel('Total em R$')\n",
    "plt.xlabel('Data')\n",
    "plt.tight_layout()\n",
    "plt.show()"
   ]
  }
 ],
 "metadata": {
  "language_info": {
   "name": "python"
  }
 },
 "nbformat": 4,
 "nbformat_minor": 5
}
